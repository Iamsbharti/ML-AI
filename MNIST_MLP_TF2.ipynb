{
  "nbformat": 4,
  "nbformat_minor": 0,
  "metadata": {
    "colab": {
      "name": "MNIST_MLP_TF2.ipynb",
      "provenance": [],
      "collapsed_sections": [],
      "include_colab_link": true
    },
    "kernelspec": {
      "display_name": "Python 3",
      "language": "python",
      "name": "python3"
    },
    "language_info": {
      "codemirror_mode": {
        "name": "ipython",
        "version": 3
      },
      "file_extension": ".py",
      "mimetype": "text/x-python",
      "name": "python",
      "nbconvert_exporter": "python",
      "pygments_lexer": "ipython3",
      "version": "3.6.10"
    }
  },
  "cells": [
    {
      "cell_type": "markdown",
      "metadata": {
        "id": "view-in-github",
        "colab_type": "text"
      },
      "source": [
        "<a href=\"https://colab.research.google.com/github/Iamsbharti/ML-AI/blob/master/MNIST_MLP_TF2.ipynb\" target=\"_parent\"><img src=\"https://colab.research.google.com/assets/colab-badge.svg\" alt=\"Open In Colab\"/></a>"
      ]
    },
    {
      "cell_type": "markdown",
      "metadata": {
        "id": "Cx-n19Thv_pi"
      },
      "source": [
        "## Demo on the famous MNIST dataset"
      ]
    },
    {
      "cell_type": "markdown",
      "metadata": {
        "id": "PjghwJHRv0Ii"
      },
      "source": [
        "**MNIST** (Modified Nation Institute of Standards and Technology) is the most commonly used dataset for Digit recognition for Deep Learning because of its tens of thousands of handwritten images. it has total of 784 pixels each of 28 pixels in height and 28 pixels in width representing lightness or darkness of the picture\n"
      ]
    },
    {
      "cell_type": "markdown",
      "metadata": {
        "id": "g0xNABh556jK"
      },
      "source": [
        "### Importing Necessary Libraries"
      ]
    },
    {
      "cell_type": "code",
      "metadata": {
        "id": "QSckmY7i2Zuq"
      },
      "source": [
        "# Importing the required libraries\n",
        "import tensorflow as tf\n",
        "import pandas as pd\n",
        "import matplotlib.pyplot as plt\n",
        "import numpy as nps"
      ],
      "execution_count": null,
      "outputs": []
    },
    {
      "cell_type": "code",
      "metadata": {
        "id": "f4N5_CWFv_pn"
      },
      "source": [
        "pd.set_option('display.max_rows', 50)\n",
        "pd.set_option('display.max_columns', 50)\n",
        "plt.rcParams['font.size']=14\n",
        "np.set_printoptions(threshold=np.inf)"
      ],
      "execution_count": null,
      "outputs": []
    },
    {
      "cell_type": "code",
      "metadata": {
        "id": "iALWHcI5v_pq"
      },
      "source": [
        "# Import MNIST data\n",
        "mnist = tf.keras.datasets.mnist\n",
        "# Creating training and testing datasets\n",
        "(x_train, y_train), (x_test, y_test) = mnist.load_data()"
      ],
      "execution_count": null,
      "outputs": []
    },
    {
      "cell_type": "code",
      "metadata": {
        "id": "EiI2snTjv_pt"
      },
      "source": [
        "x_train.shape"
      ],
      "execution_count": null,
      "outputs": []
    },
    {
      "cell_type": "code",
      "metadata": {
        "id": "-rzMFh86v_px"
      },
      "source": [
        "pd.DataFrame(x_train[10, :, :])"
      ],
      "execution_count": null,
      "outputs": []
    },
    {
      "cell_type": "code",
      "metadata": {
        "id": "-ioNzEKUv_p0"
      },
      "source": [
        "plt.imshow(x_train[10, :, :], cmap='gray');"
      ],
      "execution_count": null,
      "outputs": []
    },
    {
      "cell_type": "markdown",
      "metadata": {
        "id": "Rw7lvG_6v_p4"
      },
      "source": [
        "### Normalizing the datasets"
      ]
    },
    {
      "cell_type": "code",
      "metadata": {
        "id": "8hEmMUXhv_p7"
      },
      "source": [
        "x_train, x_test = x_train/255.0,  x_test/255.0"
      ],
      "execution_count": null,
      "outputs": []
    },
    {
      "cell_type": "code",
      "metadata": {
        "id": "f8UM3Cshv_qB"
      },
      "source": [
        "pd.DataFrame(np.round(x_train[1, :, :], 2))"
      ],
      "execution_count": null,
      "outputs": []
    },
    {
      "cell_type": "markdown",
      "metadata": {
        "id": "R_EvPhlYv_qE"
      },
      "source": [
        "### Preparing dataset for Training"
      ]
    },
    {
      "cell_type": "code",
      "metadata": {
        "id": "FmLlsbKBv_qE"
      },
      "source": [
        "print(x_train.shape)\n",
        "print(x_test.shape)"
      ],
      "execution_count": null,
      "outputs": []
    },
    {
      "cell_type": "code",
      "metadata": {
        "id": "Ot3DLIjZv_qK"
      },
      "source": [
        "x_train = x_train.reshape(60000, 784)\n",
        "x_test = x_test.reshape(10000, 784)"
      ],
      "execution_count": null,
      "outputs": []
    },
    {
      "cell_type": "code",
      "metadata": {
        "id": "txqkzWF1v_qP"
      },
      "source": [
        "print(x_train.shape)\n",
        "print(x_test.shape)"
      ],
      "execution_count": null,
      "outputs": []
    },
    {
      "cell_type": "code",
      "metadata": {
        "id": "Z-j4-u9Pv_qV"
      },
      "source": [
        "y_train.shape"
      ],
      "execution_count": null,
      "outputs": []
    },
    {
      "cell_type": "code",
      "metadata": {
        "id": "a-mHiZDCv_qY"
      },
      "source": [
        "y_train[:5]"
      ],
      "execution_count": null,
      "outputs": []
    },
    {
      "cell_type": "markdown",
      "metadata": {
        "id": "Hqz39l8qv_qb"
      },
      "source": [
        "#### We want target in one hot encoded format"
      ]
    },
    {
      "cell_type": "code",
      "metadata": {
        "id": "9G12gfq1v_qc"
      },
      "source": [
        "from tensorflow.keras.utils import to_categorical"
      ],
      "execution_count": null,
      "outputs": []
    },
    {
      "cell_type": "code",
      "metadata": {
        "id": "if7bC4qmv_qf"
      },
      "source": [
        "y_train = to_categorical(y_train)\n",
        "y_test = to_categorical(y_test)"
      ],
      "execution_count": null,
      "outputs": []
    },
    {
      "cell_type": "code",
      "metadata": {
        "id": "O4wE4Xz7v_qi"
      },
      "source": [
        "y_train[:5]"
      ],
      "execution_count": null,
      "outputs": []
    },
    {
      "cell_type": "markdown",
      "metadata": {
        "id": "77sjavGev_qk"
      },
      "source": [
        "---"
      ]
    },
    {
      "cell_type": "markdown",
      "metadata": {
        "id": "nJBnhDCcv_qk"
      },
      "source": [
        "### Defining a Sequential Model"
      ]
    },
    {
      "cell_type": "code",
      "metadata": {
        "id": "a_P3DqzSv_ql"
      },
      "source": [
        "from tensorflow.keras.models import Sequential\n",
        "from tensorflow.keras.layers import Dense"
      ],
      "execution_count": null,
      "outputs": []
    },
    {
      "cell_type": "code",
      "metadata": {
        "id": "gi8D0Tbnv_qr"
      },
      "source": [
        "model = Sequential()\n",
        "#Defining layers of the model\n",
        "model.add(Dense(128, activation= 'sigmoid', input_shape = (784,)))\n",
        "model.add(Dense(64, activation= 'sigmoid'))\n",
        "model.add(Dense(10, activation= 'softmax'))"
      ],
      "execution_count": null,
      "outputs": []
    },
    {
      "cell_type": "code",
      "metadata": {
        "id": "k84TruLWv_qv"
      },
      "source": [
        "model.summary()"
      ],
      "execution_count": null,
      "outputs": []
    },
    {
      "cell_type": "markdown",
      "metadata": {
        "id": "gybxPZa_6PoC"
      },
      "source": [
        "**Compiling the Model**"
      ]
    },
    {
      "cell_type": "code",
      "metadata": {
        "id": "Vb1ZALtL5Exl"
      },
      "source": [
        "#Compiling the Model\n",
        "model.compile(optimizer='sgd', loss= 'categorical_crossentropy', metrics=['accuracy'])"
      ],
      "execution_count": null,
      "outputs": []
    },
    {
      "cell_type": "markdown",
      "metadata": {
        "id": "MDlEwRSH6V5X"
      },
      "source": [
        "**Training the Model**"
      ]
    },
    {
      "cell_type": "code",
      "metadata": {
        "id": "ArLJmWSj5lZX"
      },
      "source": [
        "%%time\n",
        "#Training the Model\n",
        "history = model.fit(x_train, y_train, batch_size= 32, epochs=20, validation_split=0.2)"
      ],
      "execution_count": null,
      "outputs": []
    },
    {
      "cell_type": "markdown",
      "metadata": {
        "id": "Bhv5YtIs6ayL"
      },
      "source": [
        "**Evaluating the Model**"
      ]
    },
    {
      "cell_type": "code",
      "metadata": {
        "id": "T_GV60XT5whA"
      },
      "source": [
        "#Evaluating the Model\n",
        "model.evaluate(x_test, y_test, verbose=0)"
      ],
      "execution_count": null,
      "outputs": []
    },
    {
      "cell_type": "markdown",
      "metadata": {
        "id": "-S9vdmRU6fnz"
      },
      "source": [
        "**Predicting using the Model**"
      ]
    },
    {
      "cell_type": "code",
      "metadata": {
        "id": "uk9RHdRIAXIl"
      },
      "source": [
        "#Making Prediction using the Model\n",
        "x_new = x_test[:10]\n",
        "y_pred = model.predict_classes(x_new)\n",
        "print('Prediction: ', y_pred)\n",
        "y_new = y_test[:10]\n",
        "print('Actual:     ',  np.argmax(y_new, axis=1))"
      ],
      "execution_count": null,
      "outputs": []
    },
    {
      "cell_type": "markdown",
      "metadata": {
        "id": "8IX41oT06lw-"
      },
      "source": [
        "**Ploting Accuracy and Loss** "
      ]
    },
    {
      "cell_type": "code",
      "metadata": {
        "id": "L0K8jPGRv_rB"
      },
      "source": [
        "history.history"
      ],
      "execution_count": null,
      "outputs": []
    },
    {
      "cell_type": "code",
      "metadata": {
        "id": "i6PenGWlHnsh"
      },
      "source": [
        "pd.DataFrame(history.history).plot(figsize=(10,7))\n",
        "plt.grid(True)\n",
        "plt.show()"
      ],
      "execution_count": null,
      "outputs": []
    },
    {
      "cell_type": "code",
      "metadata": {
        "id": "_r10cXv0Jnz2"
      },
      "source": [
        "plt.figure(figsize=(10, 7))\n",
        "plt.plot(history.history['loss'], label = 'train loss')\n",
        "# plt.plot(history.history['val_loss'], label = 'test loss')\n",
        "plt.legend()\n",
        "plt.grid()\n",
        "plt.show()"
      ],
      "execution_count": null,
      "outputs": []
    },
    {
      "cell_type": "code",
      "metadata": {
        "id": "9Ao6o4-7Hovh"
      },
      "source": [
        "plt.figure(figsize=(10, 7))\n",
        "plt.plot(history.history['accuracy'], label = 'train accuracy')\n",
        "plt.plot(history.history['val_accuracy'], label = 'test accuracy')\n",
        "plt.legend()\n",
        "plt.grid()\n",
        "plt.show()"
      ],
      "execution_count": null,
      "outputs": []
    },
    {
      "cell_type": "markdown",
      "metadata": {
        "id": "4SoDkwqKN7PI"
      },
      "source": [
        ""
      ]
    },
    {
      "cell_type": "markdown",
      "metadata": {
        "id": "uhATniBsv_rH"
      },
      "source": [
        "---"
      ]
    },
    {
      "cell_type": "markdown",
      "metadata": {
        "id": "3UjRMcHJv_rH"
      },
      "source": [
        "### Assignment"
      ]
    },
    {
      "cell_type": "code",
      "metadata": {
        "id": "hh7ohhHAv_rH"
      },
      "source": [
        "# Import MNIST data\n",
        "fashion_mnist = tf.keras.datasets.fashion_mnist\n",
        "# Creating training and testing datasets\n",
        "(x_train, y_train), (x_test, y_test) = fashion_mnist.load_data()"
      ],
      "execution_count": null,
      "outputs": []
    },
    {
      "cell_type": "code",
      "metadata": {
        "id": "EUKA-pTcv_rJ"
      },
      "source": [
        "x_train.shape"
      ],
      "execution_count": null,
      "outputs": []
    },
    {
      "cell_type": "code",
      "metadata": {
        "id": "ob5RPzwev_rL"
      },
      "source": [
        "plt.imshow(x_train[91], cmap = 'gray')\n",
        "plt.show()"
      ],
      "execution_count": null,
      "outputs": []
    },
    {
      "cell_type": "code",
      "metadata": {
        "id": "EC3Q1Rxrv_rP"
      },
      "source": [
        ""
      ],
      "execution_count": null,
      "outputs": []
    }
  ]
}