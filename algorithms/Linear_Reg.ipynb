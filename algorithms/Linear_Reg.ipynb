{
 "cells": [
  {
   "cell_type": "markdown",
   "metadata": {},
   "source": [
    "# Linear Regression"
   ]
  },
  {
   "cell_type": "markdown",
   "metadata": {},
   "source": [
    "## Import Libraries"
   ]
  },
  {
   "cell_type": "code",
   "execution_count": 1,
   "metadata": {},
   "outputs": [
    {
     "ename": "ModuleNotFoundError",
     "evalue": "No module named 'Ipython'",
     "output_type": "error",
     "traceback": [
      "\u001b[0;31m---------------------------------------------------------------------------\u001b[0m",
      "\u001b[0;31mModuleNotFoundError\u001b[0m                       Traceback (most recent call last)",
      "\u001b[0;32m<ipython-input-1-eaf4a7d91419>\u001b[0m in \u001b[0;36m<module>\u001b[0;34m\u001b[0m\n\u001b[1;32m      1\u001b[0m \u001b[0;32mimport\u001b[0m \u001b[0mipywidgets\u001b[0m \u001b[0;32mas\u001b[0m \u001b[0mwidgets\u001b[0m\u001b[0;34m\u001b[0m\u001b[0;34m\u001b[0m\u001b[0m\n\u001b[0;32m----> 2\u001b[0;31m \u001b[0;32mfrom\u001b[0m \u001b[0mIpython\u001b[0m\u001b[0;34m.\u001b[0m\u001b[0mdisplay\u001b[0m \u001b[0;32mimport\u001b[0m \u001b[0mdisplay\u001b[0m\u001b[0;34m\u001b[0m\u001b[0;34m\u001b[0m\u001b[0m\n\u001b[0m\u001b[1;32m      3\u001b[0m \u001b[0mstyle\u001b[0m \u001b[0;34m=\u001b[0m \u001b[0;34m{\u001b[0m\u001b[0;34m'description_width'\u001b[0m\u001b[0;34m:\u001b[0m\u001b[0;34m'initial'\u001b[0m\u001b[0;34m}\u001b[0m\u001b[0;34m\u001b[0m\u001b[0;34m\u001b[0m\u001b[0m\n",
      "\u001b[0;31mModuleNotFoundError\u001b[0m: No module named 'Ipython'"
     ]
    }
   ],
   "source": [
    "import ipywidgets as widgets\n",
    "from Ipython.display import display\n",
    "style = {'description_width':'initial'}"
   ]
  },
  {
   "cell_type": "code",
   "execution_count": 3,
   "metadata": {},
   "outputs": [
    {
     "name": "stdout",
     "output_type": "stream",
     "text": [
      "Requirement already satisfied: Ipython in /home/saurabh/anaconda3/lib/python3.8/site-packages (7.16.1)\n",
      "Requirement already satisfied: pexpect; sys_platform != \"win32\" in /home/saurabh/anaconda3/lib/python3.8/site-packages (from Ipython) (4.8.0)\n",
      "Requirement already satisfied: pygments in /home/saurabh/anaconda3/lib/python3.8/site-packages (from Ipython) (2.6.1)\n",
      "Requirement already satisfied: setuptools>=18.5 in /home/saurabh/anaconda3/lib/python3.8/site-packages (from Ipython) (49.2.0.post20200714)\n",
      "Requirement already satisfied: pickleshare in /home/saurabh/anaconda3/lib/python3.8/site-packages (from Ipython) (0.7.5)\n",
      "Requirement already satisfied: decorator in /home/saurabh/anaconda3/lib/python3.8/site-packages (from Ipython) (4.4.2)\n",
      "Requirement already satisfied: jedi>=0.10 in /home/saurabh/anaconda3/lib/python3.8/site-packages (from Ipython) (0.17.1)\n",
      "Requirement already satisfied: backcall in /home/saurabh/anaconda3/lib/python3.8/site-packages (from Ipython) (0.2.0)\n",
      "Requirement already satisfied: traitlets>=4.2 in /home/saurabh/anaconda3/lib/python3.8/site-packages (from Ipython) (4.3.3)\n",
      "Requirement already satisfied: prompt-toolkit!=3.0.0,!=3.0.1,<3.1.0,>=2.0.0 in /home/saurabh/anaconda3/lib/python3.8/site-packages (from Ipython) (3.0.5)\n",
      "Requirement already satisfied: ptyprocess>=0.5 in /home/saurabh/anaconda3/lib/python3.8/site-packages (from pexpect; sys_platform != \"win32\"->Ipython) (0.6.0)\n",
      "Requirement already satisfied: parso<0.8.0,>=0.7.0 in /home/saurabh/anaconda3/lib/python3.8/site-packages (from jedi>=0.10->Ipython) (0.7.0)\n",
      "Requirement already satisfied: ipython-genutils in /home/saurabh/anaconda3/lib/python3.8/site-packages (from traitlets>=4.2->Ipython) (0.2.0)\n",
      "Requirement already satisfied: six in /home/saurabh/anaconda3/lib/python3.8/site-packages (from traitlets>=4.2->Ipython) (1.15.0)\n",
      "Requirement already satisfied: wcwidth in /home/saurabh/anaconda3/lib/python3.8/site-packages (from prompt-toolkit!=3.0.0,!=3.0.1,<3.1.0,>=2.0.0->Ipython) (0.2.5)\n",
      "Note: you may need to restart the kernel to use updated packages.\n"
     ]
    }
   ],
   "source": [
    "pip install Ipython"
   ]
  },
  {
   "cell_type": "code",
   "execution_count": null,
   "metadata": {},
   "outputs": [],
   "source": []
  }
 ],
 "metadata": {
  "kernelspec": {
   "display_name": "Python 3",
   "language": "python",
   "name": "python3"
  },
  "language_info": {
   "codemirror_mode": {
    "name": "ipython",
    "version": 3
   },
   "file_extension": ".py",
   "mimetype": "text/x-python",
   "name": "python",
   "nbconvert_exporter": "python",
   "pygments_lexer": "ipython3",
   "version": "3.8.3"
  }
 },
 "nbformat": 4,
 "nbformat_minor": 4
}
