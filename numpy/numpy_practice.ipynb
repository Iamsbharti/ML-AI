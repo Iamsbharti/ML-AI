{
 "cells": [
  {
   "cell_type": "code",
   "execution_count": 1,
   "metadata": {},
   "outputs": [],
   "source": [
    "import numpy as np\n",
    "import pandas as pd"
   ]
  },
  {
   "cell_type": "code",
   "execution_count": 2,
   "metadata": {},
   "outputs": [],
   "source": [
    "automobile = pd.read_csv(\"Automobile_data.csv\")"
   ]
  },
  {
   "cell_type": "code",
   "execution_count": 3,
   "metadata": {},
   "outputs": [
    {
     "data": {
      "text/html": [
       "<div>\n",
       "<style scoped>\n",
       "    .dataframe tbody tr th:only-of-type {\n",
       "        vertical-align: middle;\n",
       "    }\n",
       "\n",
       "    .dataframe tbody tr th {\n",
       "        vertical-align: top;\n",
       "    }\n",
       "\n",
       "    .dataframe thead th {\n",
       "        text-align: right;\n",
       "    }\n",
       "</style>\n",
       "<table border=\"1\" class=\"dataframe\">\n",
       "  <thead>\n",
       "    <tr style=\"text-align: right;\">\n",
       "      <th></th>\n",
       "      <th>symboling</th>\n",
       "      <th>normalized-losses</th>\n",
       "      <th>make</th>\n",
       "      <th>fuel-type</th>\n",
       "      <th>aspiration</th>\n",
       "      <th>num-of-doors</th>\n",
       "      <th>body-style</th>\n",
       "      <th>drive-wheels</th>\n",
       "      <th>engine-location</th>\n",
       "      <th>wheel-base</th>\n",
       "      <th>...</th>\n",
       "      <th>engine-size</th>\n",
       "      <th>fuel-system</th>\n",
       "      <th>bore</th>\n",
       "      <th>stroke</th>\n",
       "      <th>compression-ratio</th>\n",
       "      <th>horsepower</th>\n",
       "      <th>peak-rpm</th>\n",
       "      <th>city-mpg</th>\n",
       "      <th>highway-mpg</th>\n",
       "      <th>price</th>\n",
       "    </tr>\n",
       "  </thead>\n",
       "  <tbody>\n",
       "    <tr>\n",
       "      <th>0</th>\n",
       "      <td>3</td>\n",
       "      <td>?</td>\n",
       "      <td>alfa-romero</td>\n",
       "      <td>gas</td>\n",
       "      <td>std</td>\n",
       "      <td>two</td>\n",
       "      <td>convertible</td>\n",
       "      <td>rwd</td>\n",
       "      <td>front</td>\n",
       "      <td>88.6</td>\n",
       "      <td>...</td>\n",
       "      <td>130</td>\n",
       "      <td>mpfi</td>\n",
       "      <td>3.47</td>\n",
       "      <td>2.68</td>\n",
       "      <td>9.0</td>\n",
       "      <td>111</td>\n",
       "      <td>5000</td>\n",
       "      <td>21</td>\n",
       "      <td>27</td>\n",
       "      <td>13495</td>\n",
       "    </tr>\n",
       "    <tr>\n",
       "      <th>1</th>\n",
       "      <td>3</td>\n",
       "      <td>?</td>\n",
       "      <td>alfa-romero</td>\n",
       "      <td>gas</td>\n",
       "      <td>std</td>\n",
       "      <td>two</td>\n",
       "      <td>convertible</td>\n",
       "      <td>rwd</td>\n",
       "      <td>front</td>\n",
       "      <td>88.6</td>\n",
       "      <td>...</td>\n",
       "      <td>130</td>\n",
       "      <td>mpfi</td>\n",
       "      <td>3.47</td>\n",
       "      <td>2.68</td>\n",
       "      <td>9.0</td>\n",
       "      <td>111</td>\n",
       "      <td>5000</td>\n",
       "      <td>21</td>\n",
       "      <td>27</td>\n",
       "      <td>16500</td>\n",
       "    </tr>\n",
       "  </tbody>\n",
       "</table>\n",
       "<p>2 rows × 26 columns</p>\n",
       "</div>"
      ],
      "text/plain": [
       "   symboling normalized-losses         make fuel-type aspiration num-of-doors  \\\n",
       "0          3                 ?  alfa-romero       gas        std          two   \n",
       "1          3                 ?  alfa-romero       gas        std          two   \n",
       "\n",
       "    body-style drive-wheels engine-location  wheel-base  ...  engine-size  \\\n",
       "0  convertible          rwd           front        88.6  ...          130   \n",
       "1  convertible          rwd           front        88.6  ...          130   \n",
       "\n",
       "   fuel-system  bore  stroke compression-ratio horsepower  peak-rpm city-mpg  \\\n",
       "0         mpfi  3.47    2.68               9.0        111      5000       21   \n",
       "1         mpfi  3.47    2.68               9.0        111      5000       21   \n",
       "\n",
       "  highway-mpg  price  \n",
       "0          27  13495  \n",
       "1          27  16500  \n",
       "\n",
       "[2 rows x 26 columns]"
      ]
     },
     "execution_count": 3,
     "metadata": {},
     "output_type": "execute_result"
    }
   ],
   "source": [
    "automobile.head(2)"
   ]
  },
  {
   "cell_type": "code",
   "execution_count": 4,
   "metadata": {},
   "outputs": [],
   "source": [
    "auto_grp = automobile.groupby(\"make\")"
   ]
  },
  {
   "cell_type": "code",
   "execution_count": null,
   "metadata": {},
   "outputs": [],
   "source": [
    "auto_grp.aggregate(np.sum,'mean',axis=0)"
   ]
  },
  {
   "cell_type": "code",
   "execution_count": 11,
   "metadata": {},
   "outputs": [
    {
     "name": "stdout",
     "output_type": "stream",
     "text": [
      "-1.0\n",
      "6.0\n"
     ]
    }
   ],
   "source": [
    "# trignometry functions\n",
    "print(np.cos(np.pi))\n",
    "print(np.sqrt(36))"
   ]
  },
  {
   "cell_type": "code",
   "execution_count": 12,
   "metadata": {},
   "outputs": [
    {
     "name": "stdout",
     "output_type": "stream",
     "text": [
      "Matrix: [[1 2 3]\n",
      " [3 6 7]]\n"
     ]
    },
    {
     "data": {
      "text/plain": [
       "(2, 3)"
      ]
     },
     "execution_count": 12,
     "metadata": {},
     "output_type": "execute_result"
    }
   ],
   "source": [
    "# Matrix manipulation\n",
    "matrix = np.array([[1,2,3],[3,6,7]])\n",
    "print(\"Matrix:\" ,matrix)\n",
    "matrix.shape"
   ]
  },
  {
   "cell_type": "code",
   "execution_count": 13,
   "metadata": {},
   "outputs": [
    {
     "data": {
      "text/plain": [
       "array([[ 3,  6],\n",
       "       [ 9, 12],\n",
       "       [15, 18]])"
      ]
     },
     "execution_count": 13,
     "metadata": {},
     "output_type": "execute_result"
    }
   ],
   "source": [
    "# create a mtrix with arrange\n",
    "# reshape takes 2 args and reshapes the given matrix to that format row x col\n",
    "vec = np.arange(3,21,3)\n",
    "vec.reshape(3,2)"
   ]
  },
  {
   "cell_type": "code",
   "execution_count": 14,
   "metadata": {},
   "outputs": [
    {
     "data": {
      "text/plain": [
       "array([0.   , 0.625, 1.25 , 1.875, 2.5  , 3.125, 3.75 , 4.375, 5.   ])"
      ]
     },
     "execution_count": 14,
     "metadata": {},
     "output_type": "execute_result"
    }
   ],
   "source": [
    "# linspace --> Return evenly spaced numbers over a specified interval.\n",
    "lin_vec = np.linspace(0,5,9)\n",
    "lin_vec"
   ]
  },
  {
   "cell_type": "code",
   "execution_count": 15,
   "metadata": {},
   "outputs": [
    {
     "data": {
      "text/plain": [
       "array([[0.   , 0.625, 1.25 ],\n",
       "       [1.875, 2.5  , 3.125],\n",
       "       [3.75 , 4.375, 5.   ]])"
      ]
     },
     "execution_count": 15,
     "metadata": {},
     "output_type": "execute_result"
    }
   ],
   "source": [
    "lin_vec.reshape(3,3)"
   ]
  },
  {
   "cell_type": "code",
   "execution_count": 16,
   "metadata": {},
   "outputs": [
    {
     "data": {
      "text/plain": [
       "array([[0., 0., 0.],\n",
       "       [0., 0., 0.]])"
      ]
     },
     "execution_count": 16,
     "metadata": {},
     "output_type": "execute_result"
    }
   ],
   "source": [
    "# Zeros & Ones matrix creation takes shape as argument\n",
    "np.zeros((2,3))"
   ]
  },
  {
   "cell_type": "code",
   "execution_count": 17,
   "metadata": {},
   "outputs": [
    {
     "data": {
      "text/plain": [
       "array([[1., 1.],\n",
       "       [1., 1.],\n",
       "       [1., 1.]])"
      ]
     },
     "execution_count": 17,
     "metadata": {},
     "output_type": "execute_result"
    }
   ],
   "source": [
    "np.ones((3,2))"
   ]
  },
  {
   "cell_type": "code",
   "execution_count": 18,
   "metadata": {},
   "outputs": [
    {
     "data": {
      "text/plain": [
       "array([[1., 0., 0., 0., 0.],\n",
       "       [0., 1., 0., 0., 0.],\n",
       "       [0., 0., 1., 0., 0.],\n",
       "       [0., 0., 0., 1., 0.],\n",
       "       [0., 0., 0., 0., 1.]])"
      ]
     },
     "execution_count": 18,
     "metadata": {},
     "output_type": "execute_result"
    }
   ],
   "source": [
    "# create diagonal matrix -> takes a int and np will create a matrix of shape n x n with n at it's\n",
    "# diagonal starting from index 0\n",
    "np.eye(5)"
   ]
  },
  {
   "cell_type": "code",
   "execution_count": 19,
   "metadata": {},
   "outputs": [
    {
     "name": "stdout",
     "output_type": "stream",
     "text": [
      "[1 2 3 4 5 6]\n",
      "[ 5  6  7  8  9 10]\n"
     ]
    }
   ],
   "source": [
    "# matrix operations\n",
    "mat1 = np.arange(1,7)\n",
    "mat2 = np.arange(5,11)\n",
    "print(mat1)\n",
    "print(mat2)"
   ]
  },
  {
   "cell_type": "code",
   "execution_count": null,
   "metadata": {},
   "outputs": [],
   "source": [
    "# if you try to operate on not matching shapes matrix you get an error\n",
    "# -> operands could not be broadcast together with shapes (3,2) (2,3)\n",
    "v1 = mat1.reshape(3,2)\n",
    "v2 = mat2.reshape(2,3)\n",
    "v1+v2"
   ]
  },
  {
   "cell_type": "code",
   "execution_count": 22,
   "metadata": {},
   "outputs": [
    {
     "name": "stdout",
     "output_type": "stream",
     "text": [
      "[[1 2]\n",
      " [3 4]\n",
      " [5 6]]\n",
      "[[ 5  6]\n",
      " [ 7  8]\n",
      " [ 9 10]]\n",
      "[[ 6  8]\n",
      " [10 12]\n",
      " [14 16]]\n"
     ]
    }
   ],
   "source": [
    "v1 = mat1.reshape(3,2)\n",
    "v2 = mat2.reshape(3,2)\n",
    "print(v1)\n",
    "print(v2)\n",
    "print(v1+v2)"
   ]
  },
  {
   "cell_type": "code",
   "execution_count": 23,
   "metadata": {},
   "outputs": [
    {
     "data": {
      "text/plain": [
       "array([[-4, -4],\n",
       "       [-4, -4],\n",
       "       [-4, -4]])"
      ]
     },
     "execution_count": 23,
     "metadata": {},
     "output_type": "execute_result"
    }
   ],
   "source": [
    "v1-v2"
   ]
  },
  {
   "cell_type": "code",
   "execution_count": 24,
   "metadata": {},
   "outputs": [
    {
     "data": {
      "text/plain": [
       "array([[ 5, 12],\n",
       "       [21, 32],\n",
       "       [45, 60]])"
      ]
     },
     "execution_count": 24,
     "metadata": {},
     "output_type": "execute_result"
    }
   ],
   "source": [
    "v1*v2 #not a matrix multiplication"
   ]
  },
  {
   "cell_type": "code",
   "execution_count": 25,
   "metadata": {},
   "outputs": [
    {
     "data": {
      "text/plain": [
       "array([[21, 24, 27],\n",
       "       [47, 54, 61],\n",
       "       [73, 84, 95]])"
      ]
     },
     "execution_count": 25,
     "metadata": {},
     "output_type": "execute_result"
    }
   ],
   "source": [
    "# matrix multiplication -> inner dimension should be same (n?,k),(k,m?)->(n?,m?)\n",
    "# k in this case \n",
    "v2 = v2.reshape(2,3)\n",
    "product = np.matmul(v1,v2)\n",
    "product"
   ]
  },
  {
   "cell_type": "code",
   "execution_count": 26,
   "metadata": {},
   "outputs": [
    {
     "data": {
      "text/plain": [
       "array(['4', '6', '7', 'blue', 'dark', 'green', 'orange'], dtype='<U6')"
      ]
     },
     "execution_count": 26,
     "metadata": {},
     "output_type": "execute_result"
    }
   ],
   "source": [
    "# vector(np array) with multiple datatype\n",
    "vec_mil = np.array(['orange','blue','green','dark','blue','orange',6,7,4])\n",
    "np.unique(vec_mil)"
   ]
  },
  {
   "cell_type": "code",
   "execution_count": 27,
   "metadata": {},
   "outputs": [
    {
     "data": {
      "text/plain": [
       "array([[0.09578904, 0.68525293, 0.59979245],\n",
       "       [0.36426454, 0.45909536, 0.39216381]])"
      ]
     },
     "execution_count": 27,
     "metadata": {},
     "output_type": "execute_result"
    }
   ],
   "source": [
    "# np array with random variables\n",
    "# rand -> Create an array of the given shape and populate it with random samples from a uniform \n",
    "# distribution over ``[0, 1)``\n",
    "rand_arr = np.random.rand(2,3)\n",
    "rand_arr"
   ]
  },
  {
   "cell_type": "code",
   "execution_count": 28,
   "metadata": {},
   "outputs": [
    {
     "data": {
      "text/plain": [
       "array([[ 1.25536436,  1.26070112],\n",
       "       [ 2.36719221,  0.12126824],\n",
       "       [ 0.15291927, -1.30072001]])"
      ]
     },
     "execution_count": 28,
     "metadata": {},
     "output_type": "execute_result"
    }
   ],
   "source": [
    "# randn -> Return a sample (or samples) from the \"standard normal\" distribution.\n",
    "randn_arr = np.random.randn(3,2)\n",
    "randn_arr"
   ]
  },
  {
   "cell_type": "code",
   "execution_count": 29,
   "metadata": {},
   "outputs": [
    {
     "name": "stdout",
     "output_type": "stream",
     "text": [
      "0.43272635473875165\n",
      "1.1561295988052591\n",
      "0.0957890439982465\n",
      "0.6852529258645472\n"
     ]
    }
   ],
   "source": [
    "# numpy for statistical tools on array\n",
    "print(np.mean(rand_arr))\n",
    "print(np.std(randn_arr))\n",
    "print(np.min(rand_arr))\n",
    "print(np.max(rand_arr))"
   ]
  },
  {
   "cell_type": "code",
   "execution_count": 30,
   "metadata": {},
   "outputs": [
    {
     "data": {
      "text/plain": [
       "array([0.01679409, 0.46968189, 0.57028536, 0.39201007, 0.45091314,\n",
       "       0.66140394, 0.97773425, 0.92189145, 0.34415381, 0.29165243,\n",
       "       0.11877881, 0.79793435, 0.17800307, 0.88237748, 0.07973875])"
      ]
     },
     "execution_count": 30,
     "metadata": {},
     "output_type": "execute_result"
    }
   ],
   "source": [
    "# access entries in an numpy vector\n",
    "rand_vec = np.random.rand(15)\n",
    "rand_vec"
   ]
  },
  {
   "cell_type": "code",
   "execution_count": 31,
   "metadata": {},
   "outputs": [
    {
     "name": "stdout",
     "output_type": "stream",
     "text": [
      "0.01679408533100213\n",
      "[0.46968189 0.57028536 0.39201007]\n"
     ]
    }
   ],
   "source": [
    "print(rand_vec[0])\n",
    "print(rand_vec[1:4])"
   ]
  },
  {
   "cell_type": "code",
   "execution_count": 32,
   "metadata": {},
   "outputs": [
    {
     "name": "stdout",
     "output_type": "stream",
     "text": [
      "[ 0  3  6  9 12]\n"
     ]
    },
    {
     "data": {
      "text/plain": [
       "array([0.01679409, 0.39201007, 0.97773425, 0.29165243, 0.17800307])"
      ]
     },
     "execution_count": 32,
     "metadata": {},
     "output_type": "execute_result"
    }
   ],
   "source": [
    "# access multiple non-consecutive entries\n",
    "print(np.arange(0,15,3))\n",
    "rand_vec[np.arange(0,15,3)]"
   ]
  },
  {
   "cell_type": "code",
   "execution_count": 33,
   "metadata": {},
   "outputs": [
    {
     "data": {
      "text/plain": [
       "array([[0.01679409, 0.46968189, 0.57028536],\n",
       "       [0.39201007, 0.45091314, 0.66140394],\n",
       "       [0.97773425, 0.92189145, 0.34415381],\n",
       "       [0.29165243, 0.11877881, 0.79793435],\n",
       "       [0.17800307, 0.88237748, 0.07973875]])"
      ]
     },
     "execution_count": 33,
     "metadata": {},
     "output_type": "execute_result"
    }
   ],
   "source": [
    "# access matrix\n",
    "rand_vec = rand_vec.reshape(5,3)\n",
    "rand_vec"
   ]
  },
  {
   "cell_type": "code",
   "execution_count": 34,
   "metadata": {},
   "outputs": [
    {
     "name": "stdout",
     "output_type": "stream",
     "text": [
      "0.3441538120606059\n",
      "0.3441538120606059\n"
     ]
    }
   ],
   "source": [
    "print(rand_vec[2][2])\n",
    "print(rand_vec[2,2])"
   ]
  },
  {
   "cell_type": "code",
   "execution_count": 35,
   "metadata": {},
   "outputs": [
    {
     "name": "stdout",
     "output_type": "stream",
     "text": [
      "[0.57028536 0.66140394 0.34415381 0.79793435 0.07973875]\n"
     ]
    }
   ],
   "source": [
    "# complex access\n",
    "# return 3 column\n",
    "print(rand_vec[:,2])"
   ]
  },
  {
   "cell_type": "code",
   "execution_count": 36,
   "metadata": {},
   "outputs": [
    {
     "name": "stdout",
     "output_type": "stream",
     "text": [
      "[[0.46968189 0.57028536]\n",
      " [0.45091314 0.66140394]]\n",
      "[0.01679409 0.46968189 0.57028536]\n",
      "[0.01679409 0.39201007 0.97773425 0.29165243 0.17800307]\n"
     ]
    }
   ],
   "source": [
    "# row:col\n",
    "print(rand_vec[0:2,1:3])\n",
    "# all in first row\n",
    "print(rand_vec[:][0])\n",
    "# all in first col\n",
    "print(rand_vec[:,0])"
   ]
  },
  {
   "cell_type": "code",
   "execution_count": 37,
   "metadata": {},
   "outputs": [
    {
     "name": "stdout",
     "output_type": "stream",
     "text": [
      "[[0.01679409 0.46968189 0.57028536]\n",
      " [0.39201007 0.45091314 0.66140394]\n",
      " [0.97773425 0.92189145 0.34415381]\n",
      " [0.29165243 0.11877881 0.79793435]\n",
      " [0.17800307 0.88237748 0.07973875]]\n"
     ]
    },
    {
     "data": {
      "text/plain": [
       "0.01679408533100213"
      ]
     },
     "execution_count": 37,
     "metadata": {},
     "output_type": "execute_result"
    }
   ],
   "source": [
    "# fetch first col\n",
    "print(rand_vec)\n",
    "rand_vec[0][0]"
   ]
  },
  {
   "cell_type": "code",
   "execution_count": 40,
   "metadata": {},
   "outputs": [
    {
     "data": {
      "text/plain": [
       "array([[0.01679409, 0.46968189, 0.57028536],\n",
       "       [0.39201007, 0.45091314, 0.66140394],\n",
       "       [0.97773425, 0.92189145, 0.34415381],\n",
       "       [4.        , 4.        , 4.        ],\n",
       "       [4.        , 4.        , 4.        ]])"
      ]
     },
     "execution_count": 40,
     "metadata": {},
     "output_type": "execute_result"
    }
   ],
   "source": [
    "# change some values in array\n",
    "rand_vec[3:5]=4\n",
    "rand_vec"
   ]
  },
  {
   "cell_type": "code",
   "execution_count": 78,
   "metadata": {},
   "outputs": [
    {
     "data": {
      "text/plain": [
       "array([[0.27085249, 0.63050564, 0.98864626, 0.09823498, 0.90631701],\n",
       "       [0.71153975, 0.47775479, 0.86670468, 0.58315433, 0.72906404],\n",
       "       [0.56078237, 0.53975792, 0.52407687, 0.7214722 , 0.65164033],\n",
       "       [0.37537834, 0.2503396 , 0.36709778, 0.15984697, 0.61919401],\n",
       "       [0.32274703, 0.5133387 , 0.46320233, 0.86713011, 0.84789567]])"
      ]
     },
     "execution_count": 78,
     "metadata": {},
     "output_type": "execute_result"
    }
   ],
   "source": [
    "# multiple values replacement\n",
    "#rand_vec[3:5,1:2]=[1]\n",
    "rand_v = np.random.rand(25)\n",
    "rand_v.reshape(5,5)"
   ]
  },
  {
   "cell_type": "code",
   "execution_count": 90,
   "metadata": {},
   "outputs": [
    {
     "data": {
      "text/plain": [
       "array([-2.2922667 ,  0.33242358, -0.18364765, -0.14258942,  0.57440837,\n",
       "        1.14466769,  0.15964771, -0.90640718, -0.64355361, -1.04467587,\n",
       "       -1.81478621,  0.06524434,  0.29405825,  0.22666142, -0.59188461])"
      ]
     },
     "execution_count": 90,
     "metadata": {},
     "output_type": "execute_result"
    }
   ],
   "source": [
    "rand_vec=np.random.randn(15)\n",
    "rand_vec.shape\n",
    "rand_vec"
   ]
  },
  {
   "cell_type": "code",
   "execution_count": 91,
   "metadata": {},
   "outputs": [
    {
     "data": {
      "text/plain": [
       "array([False,  True, False, False,  True,  True,  True, False, False,\n",
       "       False, False,  True,  True,  True, False])"
      ]
     },
     "execution_count": 91,
     "metadata": {},
     "output_type": "execute_result"
    }
   ],
   "source": [
    "# conditional selection of values\n",
    "rand_vec>0"
   ]
  },
  {
   "cell_type": "code",
   "execution_count": 93,
   "metadata": {},
   "outputs": [
    {
     "data": {
      "text/plain": [
       "array([0.33242358, 0.57440837, 1.14466769, 0.15964771, 0.06524434,\n",
       "       0.29405825, 0.22666142])"
      ]
     },
     "execution_count": 93,
     "metadata": {},
     "output_type": "execute_result"
    }
   ],
   "source": [
    "rand_vec[rand_vec>0]"
   ]
  },
  {
   "cell_type": "code",
   "execution_count": 95,
   "metadata": {},
   "outputs": [
    {
     "data": {
      "text/plain": [
       "array([-2.2922667 ,  5.        , -0.18364765, -0.14258942,  5.        ,\n",
       "        5.        ,  5.        , -0.90640718, -0.64355361, -1.04467587,\n",
       "       -1.81478621,  5.        ,  5.        ,  5.        , -0.59188461])"
      ]
     },
     "execution_count": 95,
     "metadata": {},
     "output_type": "execute_result"
    }
   ],
   "source": [
    "# change value based on condition\n",
    "rand_vec[rand_vec>0]=5\n",
    "rand_vec"
   ]
  },
  {
   "cell_type": "code",
   "execution_count": 96,
   "metadata": {},
   "outputs": [],
   "source": [
    "# save a numpy array on disk \n",
    "# these extensions are only redable by system(python)\n",
    "np.save('saved_np_array',rand_vec)"
   ]
  },
  {
   "cell_type": "code",
   "execution_count": 98,
   "metadata": {},
   "outputs": [],
   "source": [
    "# save multiple np array (file_name=np_array)\n",
    "np.savez('zipped_file_name',rand_Mat1=rand_vec,rand_Mat2=rand_v)"
   ]
  },
  {
   "cell_type": "code",
   "execution_count": 103,
   "metadata": {},
   "outputs": [],
   "source": [
    "# save np array as text file\n",
    "np.savetxt('np_arr_txt.txt',rand_vec,delimiter=\",\")"
   ]
  },
  {
   "cell_type": "code",
   "execution_count": 105,
   "metadata": {},
   "outputs": [
    {
     "data": {
      "text/plain": [
       "array([-2.2922667 ,  5.        , -0.18364765, -0.14258942,  5.        ,\n",
       "        5.        ,  5.        , -0.90640718, -0.64355361, -1.04467587,\n",
       "       -1.81478621,  5.        ,  5.        ,  5.        , -0.59188461])"
      ]
     },
     "execution_count": 105,
     "metadata": {},
     "output_type": "execute_result"
    }
   ],
   "source": [
    "# load np array from disk\n",
    "load_vec = np.load('saved_np_array.npy')\n",
    "load_vec"
   ]
  },
  {
   "cell_type": "code",
   "execution_count": 106,
   "metadata": {},
   "outputs": [
    {
     "data": {
      "text/plain": [
       "<numpy.lib.npyio.NpzFile at 0x7f8d93ea5190>"
      ]
     },
     "execution_count": 106,
     "metadata": {},
     "output_type": "execute_result"
    }
   ],
   "source": [
    "# multiple loads\n",
    "load_zip = np.load('zipped_file_name.npz')\n",
    "load_zip"
   ]
  },
  {
   "cell_type": "code",
   "execution_count": 107,
   "metadata": {},
   "outputs": [
    {
     "data": {
      "text/plain": [
       "array([-2.2922667 ,  5.        , -0.18364765, -0.14258942,  5.        ,\n",
       "        5.        ,  5.        , -0.90640718, -0.64355361, -1.04467587,\n",
       "       -1.81478621,  5.        ,  5.        ,  5.        , -0.59188461])"
      ]
     },
     "execution_count": 107,
     "metadata": {},
     "output_type": "execute_result"
    }
   ],
   "source": [
    "load_zip['rand_Mat1']"
   ]
  },
  {
   "cell_type": "code",
   "execution_count": 108,
   "metadata": {},
   "outputs": [
    {
     "data": {
      "text/plain": [
       "array([0.27085249, 0.63050564, 0.98864626, 0.09823498, 0.90631701,\n",
       "       0.71153975, 0.47775479, 0.86670468, 0.58315433, 0.72906404,\n",
       "       0.56078237, 0.53975792, 0.52407687, 0.7214722 , 0.65164033,\n",
       "       0.37537834, 0.2503396 , 0.36709778, 0.15984697, 0.61919401,\n",
       "       0.32274703, 0.5133387 , 0.46320233, 0.86713011, 0.84789567])"
      ]
     },
     "execution_count": 108,
     "metadata": {},
     "output_type": "execute_result"
    }
   ],
   "source": [
    "load_zip['rand_Mat2']"
   ]
  },
  {
   "cell_type": "code",
   "execution_count": null,
   "metadata": {},
   "outputs": [],
   "source": []
  }
 ],
 "metadata": {
  "kernelspec": {
   "display_name": "Python 3",
   "language": "python",
   "name": "python3"
  },
  "language_info": {
   "codemirror_mode": {
    "name": "ipython",
    "version": 3
   },
   "file_extension": ".py",
   "mimetype": "text/x-python",
   "name": "python",
   "nbconvert_exporter": "python",
   "pygments_lexer": "ipython3",
   "version": "3.8.3"
  }
 },
 "nbformat": 4,
 "nbformat_minor": 4
}
