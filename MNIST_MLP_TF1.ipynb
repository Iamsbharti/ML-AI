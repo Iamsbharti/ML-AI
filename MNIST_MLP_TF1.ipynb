{
 "cells": [
  {
   "cell_type": "code",
   "execution_count": 3,
   "metadata": {
    "id": "_C2WGx1PLZSq"
   },
   "outputs": [
    {
     "ename": "ModuleNotFoundError",
     "evalue": "No module named 'tensorflow'",
     "output_type": "error",
     "traceback": [
      "\u001b[0;31m---------------------------------------------------------------------------\u001b[0m",
      "\u001b[0;31mModuleNotFoundError\u001b[0m                       Traceback (most recent call last)",
      "\u001b[0;32m<ipython-input-3-015fd564fa65>\u001b[0m in \u001b[0;36m<module>\u001b[0;34m\u001b[0m\n\u001b[1;32m      1\u001b[0m \u001b[0;31m#%tensorflow_version 1.x\u001b[0m\u001b[0;34m\u001b[0m\u001b[0;34m\u001b[0m\u001b[0;34m\u001b[0m\u001b[0m\n\u001b[0;32m----> 2\u001b[0;31m \u001b[0;32mimport\u001b[0m \u001b[0mtensorflow\u001b[0m \u001b[0;32mas\u001b[0m \u001b[0mtf\u001b[0m\u001b[0;34m\u001b[0m\u001b[0;34m\u001b[0m\u001b[0m\n\u001b[0m",
      "\u001b[0;31mModuleNotFoundError\u001b[0m: No module named 'tensorflow'"
     ]
    }
   ],
   "source": [
    "#%tensorflow_version 1.x\n",
    "import tensorflow as tf"
   ]
  },
  {
   "cell_type": "code",
   "execution_count": 2,
   "metadata": {
    "id": "7yjEnN15q-ja"
   },
   "outputs": [
    {
     "ename": "NameError",
     "evalue": "name 'tf' is not defined",
     "output_type": "error",
     "traceback": [
      "\u001b[0;31m---------------------------------------------------------------------------\u001b[0m",
      "\u001b[0;31mNameError\u001b[0m                                 Traceback (most recent call last)",
      "\u001b[0;32m<ipython-input-2-65996cac02ec>\u001b[0m in \u001b[0;36m<module>\u001b[0;34m\u001b[0m\n\u001b[0;32m----> 1\u001b[0;31m \u001b[0mtf\u001b[0m\u001b[0;34m.\u001b[0m\u001b[0m__version__\u001b[0m\u001b[0;34m\u001b[0m\u001b[0;34m\u001b[0m\u001b[0m\n\u001b[0m",
      "\u001b[0;31mNameError\u001b[0m: name 'tf' is not defined"
     ]
    }
   ],
   "source": [
    "tf.__version__"
   ]
  },
  {
   "cell_type": "code",
   "execution_count": null,
   "metadata": {
    "id": "WG5Aur3yNKST"
   },
   "outputs": [],
   "source": [
    "import numpy as np\n",
    "import matplotlib.pyplot as plt\n",
    "import pandas as pd"
   ]
  },
  {
   "cell_type": "code",
   "execution_count": null,
   "metadata": {
    "id": "WKKFdY0yN7ON"
   },
   "outputs": [],
   "source": [
    "plt.rcParams['font.size']=14\n",
    "plt.rcParams['axes.grid']=True\n",
    "np.set_printoptions(threshold=np.inf)"
   ]
  },
  {
   "cell_type": "markdown",
   "metadata": {
    "id": "RRF_50qBrSfw"
   },
   "source": [
    "## Lets start with low level  core Tensorflow ...\r\n",
    "* #### Constants - A parameter whose value never changes\r\n",
    "* #### Variables - Allows addition of new trainable parameters \r\n",
    "* #### Placeholders - Permits a value to be assigned later. Used for input dataset.(Non longer present in TF 2)\r\n",
    "* #### Session - A session is run to evaluate the nodes\r\n"
   ]
  },
  {
   "cell_type": "code",
   "execution_count": null,
   "metadata": {
    "id": "B9A1Go_1sT9D"
   },
   "outputs": [],
   "source": [
    "a = tf.constant(3)\r\n",
    "b = tf.constant(7)"
   ]
  },
  {
   "cell_type": "code",
   "execution_count": null,
   "metadata": {
    "id": "NfkGNzfuuSp9"
   },
   "outputs": [],
   "source": [
    "c = a*b\n",
    "c"
   ]
  },
  {
   "cell_type": "code",
   "execution_count": null,
   "metadata": {
    "id": "leam1MO0u09I"
   },
   "outputs": [],
   "source": [
    "sess = tf.Session()\n",
    "sess.run(c)"
   ]
  },
  {
   "cell_type": "code",
   "execution_count": null,
   "metadata": {
    "id": "T43qGxcwvDeL"
   },
   "outputs": [],
   "source": [
    "sess.close()"
   ]
  },
  {
   "cell_type": "code",
   "execution_count": null,
   "metadata": {
    "id": "f_OILZoJxFQ1"
   },
   "outputs": [],
   "source": [
    "# tf.assign(a, a+2)"
   ]
  },
  {
   "cell_type": "code",
   "execution_count": null,
   "metadata": {
    "id": "nzvfKPvCuSqC"
   },
   "outputs": [],
   "source": [
    "x = tf.Variable(3, name='input1')\n",
    "y = tf.Variable(4, name='input2')\n",
    "f = x*x*y + y + 2"
   ]
  },
  {
   "cell_type": "code",
   "execution_count": null,
   "metadata": {
    "id": "su98XFOJuSqF"
   },
   "outputs": [],
   "source": [
    "f"
   ]
  },
  {
   "cell_type": "code",
   "execution_count": null,
   "metadata": {
    "id": "ROIW1ag0uuTa"
   },
   "outputs": [],
   "source": [
    "sess = tf.Session() # Session takes care of placing operations in CPU/GPU and running them\r\n",
    "sess.run(x.initializer)\r\n",
    "sess.run(y.initializer)\r\n",
    "result = sess.run(f)\r\n",
    "sess.close()\r\n",
    "print(result)"
   ]
  },
  {
   "cell_type": "code",
   "execution_count": null,
   "metadata": {
    "id": "hFyyHPgZ0TGp"
   },
   "outputs": [],
   "source": [
    "sess = tf.Session() # Session takes care of placing operations in CPU/GPU and running them\r\n",
    "sess.run(x.initializer)\r\n",
    "sess.run(y.initializer)\r\n",
    "update_var = tf.assign(x, x-1)\r\n",
    "sess.run(update_var)\r\n",
    "result = sess.run(f)\r\n",
    "sess.close()\r\n",
    "print(result)"
   ]
  },
  {
   "cell_type": "code",
   "execution_count": null,
   "metadata": {
    "id": "YOUBuLLluSqS"
   },
   "outputs": [],
   "source": [
    "init = tf.global_variables_initializer() # Creates a node in the graph that will initialise all variables when run\n",
    "with tf.Session() as sess:\n",
    "    init.run()  # this initialises all the variables \n",
    "    result = sess.run(f)\n",
    "result"
   ]
  },
  {
   "cell_type": "code",
   "execution_count": null,
   "metadata": {
    "id": "Nq6XT8d-rVvr"
   },
   "outputs": [],
   "source": [
    "tf.reset_default_graph() # We may run a code multiple times, which will create duplicate nodes. This helps us start afresh."
   ]
  },
  {
   "cell_type": "code",
   "execution_count": null,
   "metadata": {
    "id": "nqF_j_0DrIg4"
   },
   "outputs": [],
   "source": []
  },
  {
   "cell_type": "markdown",
   "metadata": {
    "id": "zVuX0DaT0_h8"
   },
   "source": [
    "## Lets work on MNIST dataset"
   ]
  },
  {
   "cell_type": "code",
   "execution_count": null,
   "metadata": {
    "id": "mrkB6r8iLsp7"
   },
   "outputs": [],
   "source": [
    "# Import MNIST data\n",
    "from tensorflow.examples.tutorials.mnist import input_data\n",
    "mnist = input_data.read_data_sets(\"mnist\", one_hot=True)"
   ]
  },
  {
   "cell_type": "code",
   "execution_count": null,
   "metadata": {
    "id": "UyBx7KcLUeta"
   },
   "outputs": [],
   "source": [
    "mnist.train.images.shape"
   ]
  },
  {
   "cell_type": "code",
   "execution_count": null,
   "metadata": {
    "id": "lWllSmDeU74h"
   },
   "outputs": [],
   "source": [
    "mnist.test.images.shape"
   ]
  },
  {
   "cell_type": "code",
   "execution_count": null,
   "metadata": {
    "id": "IHJoFRhCVFKM"
   },
   "outputs": [],
   "source": [
    "round(pd.DataFrame(mnist.train.images[0].reshape(28,28)),2)"
   ]
  },
  {
   "cell_type": "code",
   "execution_count": null,
   "metadata": {
    "id": "IFjF8keLVEuA"
   },
   "outputs": [],
   "source": [
    "plt.imshow(pd.DataFrame(mnist.train.images[0].reshape(28,28)), cmap = 'gray')\n",
    "plt.show()"
   ]
  },
  {
   "cell_type": "code",
   "execution_count": null,
   "metadata": {
    "id": "5IvNX_iBlUKP"
   },
   "outputs": [],
   "source": [
    "mnist.train.labels.shape"
   ]
  },
  {
   "cell_type": "code",
   "execution_count": null,
   "metadata": {
    "id": "a9NgHJzMlVYv"
   },
   "outputs": [],
   "source": [
    "mnist.train.labels[:5]"
   ]
  },
  {
   "cell_type": "code",
   "execution_count": null,
   "metadata": {
    "id": "eQLm13M3OBw8"
   },
   "outputs": [],
   "source": [
    "# Network Parameters\n",
    "n_hidden_1 = 128 # 1st layer number of features\n",
    "n_hidden_2 = 128 # 2nd layer number of features\n",
    "n_input = 784 # MNIST data input (img shape: 28*28)\n",
    "n_classes = 10 # MNIST total classes (0-9 digits)\n",
    "\n",
    "# tf Graph input\n",
    "x = tf.placeholder(\"float\", [None, n_input])\n",
    "y = tf.placeholder(\"float\", [None, n_classes])"
   ]
  },
  {
   "cell_type": "code",
   "execution_count": null,
   "metadata": {
    "id": "kSo8Knp_68b2"
   },
   "outputs": [],
   "source": [
    "# Store layers weight & bias\r\n",
    "weights = {\r\n",
    "    'h1': tf.Variable(tf.random_normal([n_input, n_hidden_1])),\r\n",
    "    'h2': tf.Variable(tf.random_normal([n_hidden_1, n_hidden_2])),\r\n",
    "    'out': tf.Variable(tf.random_normal([n_hidden_2, n_classes]))}\r\n",
    "biases = {\r\n",
    "    'b1': tf.Variable(tf.random_normal([n_hidden_1])),\r\n",
    "    'b2': tf.Variable(tf.random_normal([n_hidden_2])),\r\n",
    "    'out': tf.Variable(tf.random_normal([n_classes]))}"
   ]
  },
  {
   "cell_type": "code",
   "execution_count": null,
   "metadata": {
    "id": "CcbVyfU7OWKC"
   },
   "outputs": [],
   "source": [
    "# Create model\n",
    "def multilayer_perceptron(x, weights, biases):\n",
    "    # Hidden layer with SIGMOID activation\n",
    "    layer_1 = tf.add(tf.matmul(x, weights['h1']), biases['b1'])\n",
    "    layer_1 = tf.nn.sigmoid(layer_1)\n",
    "    # Hidden layer with SIGMOID activation\n",
    "    layer_2 = tf.add(tf.matmul(layer_1, weights['h2']), biases['b2'])\n",
    "    layer_2 = tf.nn.sigmoid(layer_2)\n",
    "    # Output layer with linear activation\n",
    "    out_layer = tf.matmul(layer_2, weights['out']) + biases['out']\n",
    "    return out_layer"
   ]
  },
  {
   "cell_type": "code",
   "execution_count": null,
   "metadata": {
    "id": "dm8JQoe8O6JZ"
   },
   "outputs": [],
   "source": [
    "# Construct model\n",
    "pred = multilayer_perceptron(x, weights, biases)"
   ]
  },
  {
   "cell_type": "code",
   "execution_count": null,
   "metadata": {
    "id": "joLCpWyiFwuh"
   },
   "outputs": [],
   "source": [
    "# Model training Parameters\r\n",
    "learning_rate = 0.001\r\n",
    "training_epochs = 10\r\n",
    "batch_size = 128"
   ]
  },
  {
   "cell_type": "code",
   "execution_count": null,
   "metadata": {
    "id": "WbdZ8a3RPIjg"
   },
   "outputs": [],
   "source": [
    "# Define loss and optimizer\n",
    "cost = tf.reduce_mean(tf.nn.softmax_cross_entropy_with_logits_v2(logits=pred, labels=y))\n",
    "optimizer = tf.train.GradientDescentOptimizer(learning_rate=learning_rate).minimize(cost)"
   ]
  },
  {
   "cell_type": "code",
   "execution_count": null,
   "metadata": {
    "id": "VN-_GGPAP5Wa"
   },
   "outputs": [],
   "source": [
    "# Initializing the variables\n",
    "init = tf.global_variables_initializer()\n",
    "#create an empty list to store the cost history and accuracy history\n",
    "cost_history = []\n",
    "train_accuracy = []\n",
    "test_accuracy = []\n",
    "\n",
    "# Launch the graph\n",
    "with tf.Session() as sess:\n",
    "    sess.run(init)\n",
    "    # Training cycle\n",
    "    for epoch in range(training_epochs):\n",
    "        avg_cost = 0.\n",
    "        total_batch = int(mnist.train.num_examples/batch_size)\n",
    "        # Loop over all batches\n",
    "        for i in range(total_batch):\n",
    "            batch_x, batch_y = mnist.train.next_batch(batch_size)\n",
    "            # Run optimization op (backprop) and cost op (to get loss value)\n",
    "            _, c = sess.run([optimizer, cost], feed_dict={x: batch_x, y: batch_y})\n",
    "            # Compute average loss\n",
    "            avg_cost += c / total_batch\n",
    "            # cost_history.append(c)\n",
    "\n",
    "        # Display logs per epoch step\n",
    "        correct_prediction = tf.equal(tf.argmax(pred, 1), tf.argmax(y, 1))\n",
    "        # Calculate accuracy\n",
    "        accuracy = tf.reduce_mean(tf.cast(correct_prediction, \"float\"))\n",
    "        acu_train = accuracy.eval(feed_dict={x: mnist.train.images, y: mnist.train.labels})\n",
    "        #append the accuracy to the list\n",
    "        train_accuracy.append(acu_train)\n",
    "        acu_test = accuracy.eval(feed_dict={x: mnist.test.images, y: mnist.test.labels})\n",
    "        #append the accuracy to the list\n",
    "        test_accuracy.append(acu_test)\n",
    "        #append the cost history\n",
    "        cost_history.append(avg_cost)\n",
    "        print(\"Epoch: %d\"% (epoch + 1), \", cost= %.2f\" %avg_cost, \", Train Accuracy= %.2f\" %acu_train, \", Test Accuracy= %.2f\" %acu_test)\n",
    "\n",
    "    print(\"Optimization Finished!\")\n",
    "    #plot the cost history\n",
    "    plt.plot(cost_history)\n",
    "    plt.title('Cost_plot')\n",
    "    plt.show()\n",
    "    #plot the accuracy history\n",
    "    plt.plot(train_accuracy, label = 'Train')\n",
    "    plt.plot(test_accuracy, label = 'Test')\n",
    "    plt.title('Accuracy_plot')\n",
    "    plt.legend()\n",
    "    plt.show()"
   ]
  },
  {
   "cell_type": "markdown",
   "metadata": {
    "id": "KVR9f45zkKCo"
   },
   "source": [
    "---"
   ]
  },
  {
   "cell_type": "code",
   "execution_count": null,
   "metadata": {
    "id": "FqRi7pKYGNMk"
   },
   "outputs": [],
   "source": []
  }
 ],
 "metadata": {
  "accelerator": "GPU",
  "colab": {
   "collapsed_sections": [],
   "name": "MNIST_MLP_TF1.ipynb",
   "provenance": []
  },
  "kernelspec": {
   "display_name": "Python 3",
   "language": "python",
   "name": "python3"
  },
  "language_info": {
   "codemirror_mode": {
    "name": "ipython",
    "version": 3
   },
   "file_extension": ".py",
   "mimetype": "text/x-python",
   "name": "python",
   "nbconvert_exporter": "python",
   "pygments_lexer": "ipython3",
   "version": "3.8.5"
  }
 },
 "nbformat": 4,
 "nbformat_minor": 4
}
