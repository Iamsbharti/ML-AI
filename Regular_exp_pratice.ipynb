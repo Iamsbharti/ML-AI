{
 "cells": [
  {
   "cell_type": "markdown",
   "metadata": {},
   "source": [
    "### Regular Expression\n",
    "- .  -> Any Charater except new line\n",
    "- \\d -> Digit\n",
    "- \\D -> Not a Digit\n",
    "- \\w -> word character\n",
    "- \\W -> Not a word character\n",
    "- \\s -> whitespace(space ,tab ,new line)\n",
    "- \\S -> Not WhiteSpace\n",
    "- \\b -> Word Boundry\n",
    "- \\B -> Not Word Boundry\n",
    "- ^  -> Beginning of String\n",
    "- $  -> End of String\n",
    "- [] -> Matches characters in bractes\n",
    "- [^]-> Matches characters not in bractes\n",
    "- |  -> Either or\n",
    "- () -> Group\n",
    "- '*'  -> 0 or More\n",
    "- '+'  -> 1 or More\n",
    "- '?'  -> 0 or One\n",
    "- {3}-> Exact Number\n",
    "- {3,4} -> Range of numbers"
   ]
  },
  {
   "cell_type": "code",
   "execution_count": null,
   "metadata": {},
   "outputs": [],
   "source": []
  }
 ],
 "metadata": {
  "kernelspec": {
   "display_name": "Python 3",
   "language": "python",
   "name": "python3"
  },
  "language_info": {
   "codemirror_mode": {
    "name": "ipython",
    "version": 3
   },
   "file_extension": ".py",
   "mimetype": "text/x-python",
   "name": "python",
   "nbconvert_exporter": "python",
   "pygments_lexer": "ipython3",
   "version": "3.8.3"
  }
 },
 "nbformat": 4,
 "nbformat_minor": 4
}
