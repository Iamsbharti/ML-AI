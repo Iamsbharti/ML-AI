{
 "cells": [
  {
   "cell_type": "markdown",
   "metadata": {},
   "source": [
    "### Regular Expression\n",
    "- .  -> Any Charater except new line\n",
    "- \\d -> Digit\n",
    "- \\D -> Not a Digit\n",
    "- \\w -> word character\n",
    "- \\W -> Not a word character\n",
    "- \\s -> whitespace(space ,tab ,new line)\n",
    "- \\S -> Not WhiteSpace\n",
    "- \\b -> Word Boundry\n",
    "- \\B -> Not Word Boundry\n",
    "- ^  -> Beginning of String\n",
    "- $  -> End of String\n",
    "- [] -> Matches characters in bractes\n",
    "- [^]-> Matches characters not in bractes\n",
    "- |  -> Either or\n",
    "- () -> Group\n",
    "- '*'  -> 0 or More\n",
    "- '+'  -> 1 or More\n",
    "- '?'  -> 0 or One\n",
    "- {3}-> Exact Number\n",
    "- {3,4} -> Range of numbers"
   ]
  },
  {
   "cell_type": "code",
   "execution_count": 1,
   "metadata": {},
   "outputs": [],
   "source": [
    "import re"
   ]
  },
  {
   "cell_type": "code",
   "execution_count": 5,
   "metadata": {},
   "outputs": [],
   "source": [
    "text_to_search ='''\n",
    "abcdefghijklmnopqrstuvwxyz\n",
    "ABCDEFGHIJKLMNOPQRSTUVWXYZ\n",
    "1234567890\n",
    "123abc\n",
    "\n",
    "Hello HelloHello\n",
    "\n",
    "Metachracters (need to be escaped):\n",
    ". ^ $ * ? { } [ ] \\ ( )\n",
    "\n",
    "utexas.edu\n",
    "\n",
    "321-555-4321\n",
    "123.555.1234\n",
    "\n",
    "daniel-stern@texas.edu\n",
    "\n",
    "Mr. Johnson\n",
    "Mr Smith\n",
    "Ms Davis\n",
    "Mrs. Robinson\n",
    "Mr. T\n",
    "'''"
   ]
  },
  {
   "cell_type": "code",
   "execution_count": 19,
   "metadata": {},
   "outputs": [
    {
     "data": {
      "text/plain": [
       "'\\nabcdefghijklmnopqrstuvwxyz\\nABCDEFGHIJKLMNOPQRSTUVWXYZ\\n1234567890\\n123abc\\n\\nHello HelloHello\\n\\nMetachracters (need to be escaped):\\n. ^ $ * ? { } [ ] \\\\ ( )\\n\\nutexas.edu\\n\\n321-555-4321\\n123.555.1234\\n\\ndaniel-stern@texas.edu\\n\\nMr. Johnson\\nMr. Smith\\nMs. Davis\\nMrs. Robinson\\nMr. T\\n'"
      ]
     },
     "execution_count": 19,
     "metadata": {},
     "output_type": "execute_result"
    }
   ],
   "source": [
    "text_to_search"
   ]
  },
  {
   "cell_type": "markdown",
   "metadata": {},
   "source": [
    "### Searching Iterables"
   ]
  },
  {
   "cell_type": "code",
   "execution_count": 20,
   "metadata": {},
   "outputs": [
    {
     "data": {
      "text/plain": [
       "re.compile(r'abc', re.UNICODE)"
      ]
     },
     "execution_count": 20,
     "metadata": {},
     "output_type": "execute_result"
    }
   ],
   "source": [
    "pattern = re.compile(r'abc')\n",
    "pattern"
   ]
  },
  {
   "cell_type": "code",
   "execution_count": 21,
   "metadata": {},
   "outputs": [
    {
     "data": {
      "text/plain": [
       "<callable_iterator at 0x7f1208fb3610>"
      ]
     },
     "execution_count": 21,
     "metadata": {},
     "output_type": "execute_result"
    }
   ],
   "source": [
    "matches = pattern.finditer(text_to_search)\n",
    "matches"
   ]
  },
  {
   "cell_type": "code",
   "execution_count": 22,
   "metadata": {},
   "outputs": [
    {
     "name": "stdout",
     "output_type": "stream",
     "text": [
      "<re.Match object; span=(1, 4), match='abc'>\n",
      "<re.Match object; span=(69, 72), match='abc'>\n"
     ]
    }
   ],
   "source": [
    "for i in matches:\n",
    "    print(i)"
   ]
  },
  {
   "cell_type": "code",
   "execution_count": 24,
   "metadata": {},
   "outputs": [
    {
     "name": "stdout",
     "output_type": "stream",
     "text": [
      "abc\n",
      "abc\n"
     ]
    }
   ],
   "source": [
    "print(text_to_search[69:72])\n",
    "print(text_to_search[1:4])"
   ]
  },
  {
   "cell_type": "code",
   "execution_count": 31,
   "metadata": {},
   "outputs": [
    {
     "data": {
      "text/plain": [
       "re.compile(r'cba', re.UNICODE)"
      ]
     },
     "execution_count": 31,
     "metadata": {},
     "output_type": "execute_result"
    }
   ],
   "source": [
    "pattern = re.compile(r'cba')\n",
    "pattern"
   ]
  },
  {
   "cell_type": "code",
   "execution_count": 32,
   "metadata": {},
   "outputs": [
    {
     "data": {
      "text/plain": [
       "<callable_iterator at 0x7f1208ddefd0>"
      ]
     },
     "execution_count": 32,
     "metadata": {},
     "output_type": "execute_result"
    }
   ],
   "source": [
    "matches = pattern.finditer(text_to_search)\n",
    "matches"
   ]
  },
  {
   "cell_type": "code",
   "execution_count": 33,
   "metadata": {},
   "outputs": [],
   "source": [
    "for i in matches:\n",
    "    print(i)"
   ]
  },
  {
   "cell_type": "markdown",
   "metadata": {},
   "source": [
    "### special chracters"
   ]
  },
  {
   "cell_type": "code",
   "execution_count": 41,
   "metadata": {},
   "outputs": [
    {
     "data": {
      "text/plain": [
       "re.compile(r'.', re.UNICODE)"
      ]
     },
     "execution_count": 41,
     "metadata": {},
     "output_type": "execute_result"
    }
   ],
   "source": [
    "pattern = re.compile(r\".\")\n",
    "pattern"
   ]
  },
  {
   "cell_type": "code",
   "execution_count": 42,
   "metadata": {},
   "outputs": [
    {
     "data": {
      "text/plain": [
       "<callable_iterator at 0x7f1208aae9a0>"
      ]
     },
     "execution_count": 42,
     "metadata": {},
     "output_type": "execute_result"
    }
   ],
   "source": [
    "matches = pattern.finditer(text_to_search)\n",
    "matches"
   ]
  },
  {
   "cell_type": "code",
   "execution_count": null,
   "metadata": {},
   "outputs": [],
   "source": [
    "for i in matches:\n",
    "    print(i)"
   ]
  },
  {
   "cell_type": "code",
   "execution_count": 45,
   "metadata": {},
   "outputs": [
    {
     "data": {
      "text/plain": [
       "re.compile(r'\\.', re.UNICODE)"
      ]
     },
     "execution_count": 45,
     "metadata": {},
     "output_type": "execute_result"
    }
   ],
   "source": [
    "pattern = re.compile(r'\\.')\n",
    "pattern"
   ]
  },
  {
   "cell_type": "code",
   "execution_count": 47,
   "metadata": {},
   "outputs": [
    {
     "name": "stdout",
     "output_type": "stream",
     "text": [
      "<re.Match object; span=(128, 129), match='.'>\n",
      "<re.Match object; span=(159, 160), match='.'>\n",
      "<re.Match object; span=(181, 182), match='.'>\n",
      "<re.Match object; span=(185, 186), match='.'>\n",
      "<re.Match object; span=(210, 211), match='.'>\n",
      "<re.Match object; span=(218, 219), match='.'>\n",
      "<re.Match object; span=(230, 231), match='.'>\n",
      "<re.Match object; span=(240, 241), match='.'>\n",
      "<re.Match object; span=(251, 252), match='.'>\n",
      "<re.Match object; span=(264, 265), match='.'>\n"
     ]
    }
   ],
   "source": [
    "matches = pattern.finditer(text_to_search)\n",
    "for i in matches:\n",
    "    print(i)"
   ]
  },
  {
   "cell_type": "code",
   "execution_count": 56,
   "metadata": {},
   "outputs": [
    {
     "name": "stdout",
     "output_type": "stream",
     "text": [
      "<re.Match object; span=(146, 147), match='\\\\'>\n"
     ]
    }
   ],
   "source": [
    "pattern = re.compile(r'\\\\')\n",
    "matches = pattern.finditer(text_to_search)\n",
    "for i in matches:\n",
    "    print(i)"
   ]
  },
  {
   "cell_type": "code",
   "execution_count": 53,
   "metadata": {},
   "outputs": [
    {
     "data": {
      "text/plain": [
       "'\\\\'"
      ]
     },
     "execution_count": 53,
     "metadata": {},
     "output_type": "execute_result"
    }
   ],
   "source": [
    "text_to_search[146:147]"
   ]
  },
  {
   "cell_type": "code",
   "execution_count": null,
   "metadata": {},
   "outputs": [],
   "source": [
    "# searching digits\n",
    "pattern = re.compile(r'\\d')\n",
    "matches = pattern.finditer(text_to_search)\n",
    "for i in matches:\n",
    "    print(i)"
   ]
  },
  {
   "cell_type": "code",
   "execution_count": null,
   "metadata": {},
   "outputs": [],
   "source": [
    "# searching non digits\n",
    "pattern = re.compile(r'\\D')\n",
    "matches = pattern.finditer(text_to_search)\n",
    "for i in matches:\n",
    "    print(i)"
   ]
  },
  {
   "cell_type": "code",
   "execution_count": 67,
   "metadata": {},
   "outputs": [
    {
     "name": "stdout",
     "output_type": "stream",
     "text": [
      "<re.Match object; span=(64, 66), match='0\\n'>\n",
      "<re.Match object; span=(167, 169), match='1-'>\n",
      "<re.Match object; span=(171, 173), match='5-'>\n",
      "<re.Match object; span=(176, 178), match='1\\n'>\n",
      "<re.Match object; span=(180, 182), match='3.'>\n",
      "<re.Match object; span=(184, 186), match='5.'>\n",
      "<re.Match object; span=(189, 191), match='4\\n'>\n"
     ]
    }
   ],
   "source": [
    "# combination of digit and not a word\n",
    "# doesn't match overlapping characters\n",
    "pattern = re.compile(r'\\d\\W')\n",
    "matches = pattern.finditer(text_to_search)\n",
    "for i in matches:\n",
    "    print(i)"
   ]
  },
  {
   "cell_type": "code",
   "execution_count": 66,
   "metadata": {},
   "outputs": [
    {
     "data": {
      "text/plain": [
       "'12'"
      ]
     },
     "execution_count": 66,
     "metadata": {},
     "output_type": "execute_result"
    }
   ],
   "source": [
    "text_to_search[55: 57]"
   ]
  },
  {
   "cell_type": "code",
   "execution_count": 70,
   "metadata": {},
   "outputs": [
    {
     "name": "stdout",
     "output_type": "stream",
     "text": [
      "<re.Match object; span=(64, 66), match='0\\n'>\n",
      "<re.Match object; span=(176, 178), match='1\\n'>\n",
      "<re.Match object; span=(189, 191), match='4\\n'>\n"
     ]
    }
   ],
   "source": [
    "# digit followed by whitespace\n",
    "pattern = re.compile(r'\\d\\s')\n",
    "matches = pattern.finditer(text_to_search)\n",
    "for i in matches:\n",
    "    print(i)"
   ]
  },
  {
   "cell_type": "markdown",
   "metadata": {},
   "source": [
    "### word boundry"
   ]
  },
  {
   "cell_type": "code",
   "execution_count": 72,
   "metadata": {},
   "outputs": [
    {
     "name": "stdout",
     "output_type": "stream",
     "text": [
      "<re.Match object; span=(74, 79), match='Hello'>\n",
      "<re.Match object; span=(80, 85), match='Hello'>\n",
      "<re.Match object; span=(85, 90), match='Hello'>\n"
     ]
    }
   ],
   "source": [
    "pattern = re.compile(r'Hello')\n",
    "matches = pattern.finditer(text_to_search)\n",
    "for i in matches:\n",
    "    print(i)"
   ]
  },
  {
   "cell_type": "code",
   "execution_count": 77,
   "metadata": {},
   "outputs": [
    {
     "name": "stdout",
     "output_type": "stream",
     "text": [
      "<re.Match object; span=(74, 79), match='Hello'>\n",
      "<re.Match object; span=(85, 90), match='Hello'>\n"
     ]
    }
   ],
   "source": [
    "# a word preceded by whitespace and trails with the same\n",
    "pattern = re.compile(r'Hello\\b')\n",
    "matches = pattern.finditer(text_to_search)\n",
    "for i in matches:\n",
    "    print(i)"
   ]
  },
  {
   "cell_type": "code",
   "execution_count": 81,
   "metadata": {},
   "outputs": [
    {
     "name": "stdout",
     "output_type": "stream",
     "text": [
      "<re.Match object; span=(85, 90), match='Hello'>\n"
     ]
    }
   ],
   "source": [
    "pattern = re.compile(r'\\BHello\\b')\n",
    "matches = pattern.finditer(text_to_search)\n",
    "for i in matches:\n",
    "    print(i)"
   ]
  },
  {
   "cell_type": "code",
   "execution_count": 82,
   "metadata": {},
   "outputs": [
    {
     "name": "stdout",
     "output_type": "stream",
     "text": [
      "<re.Match object; span=(55, 56), match='1'>\n",
      "<re.Match object; span=(66, 67), match='1'>\n",
      "<re.Match object; span=(165, 166), match='3'>\n",
      "<re.Match object; span=(169, 170), match='5'>\n",
      "<re.Match object; span=(173, 174), match='4'>\n",
      "<re.Match object; span=(178, 179), match='1'>\n",
      "<re.Match object; span=(182, 183), match='5'>\n",
      "<re.Match object; span=(186, 187), match='1'>\n"
     ]
    }
   ],
   "source": [
    "pattern = re.compile(r'\\b\\d')\n",
    "matches = pattern.finditer(text_to_search)\n",
    "for i in matches:\n",
    "    print(i)"
   ]
  },
  {
   "cell_type": "code",
   "execution_count": 99,
   "metadata": {},
   "outputs": [
    {
     "name": "stdout",
     "output_type": "stream",
     "text": [
      "<re.Match object; span=(0, 0), match=''>\n"
     ]
    }
   ],
   "source": [
    "pattern = re.compile(r'^')\n",
    "matches = pattern.finditer(text_to_search)\n",
    "for i in matches:\n",
    "    print(i)"
   ]
  },
  {
   "cell_type": "markdown",
   "metadata": {},
   "source": [
    "### Character Set"
   ]
  },
  {
   "cell_type": "code",
   "execution_count": 102,
   "metadata": {},
   "outputs": [
    {
     "name": "stdout",
     "output_type": "stream",
     "text": [
      "<re.Match object; span=(55, 57), match='12'>\n",
      "<re.Match object; span=(57, 59), match='34'>\n",
      "<re.Match object; span=(66, 68), match='12'>\n",
      "<re.Match object; span=(68, 70), match='3a'>\n",
      "<re.Match object; span=(165, 167), match='32'>\n",
      "<re.Match object; span=(174, 176), match='32'>\n",
      "<re.Match object; span=(178, 180), match='12'>\n",
      "<re.Match object; span=(186, 188), match='12'>\n",
      "<re.Match object; span=(188, 190), match='34'>\n"
     ]
    }
   ],
   "source": [
    "pattern = re.compile(r'[123]\\w')\n",
    "matches = pattern.finditer(text_to_search)\n",
    "for i in matches:\n",
    "    print(i)"
   ]
  },
  {
   "cell_type": "code",
   "execution_count": null,
   "metadata": {},
   "outputs": [],
   "source": [
    "pattern = re.compile(r'[a-z][a-z]')\n",
    "matches = pattern.finditer(text_to_search)\n",
    "for i in matches:\n",
    "    print(i)"
   ]
  },
  {
   "cell_type": "code",
   "execution_count": null,
   "metadata": {},
   "outputs": [],
   "source": [
    "pattern = re.compile(r'[a-zA-Z0-9][A-z-]')\n",
    "matches = pattern.finditer(text_to_search)\n",
    "count = 0 \n",
    "for i in matches:\n",
    "    count = count+1\n",
    "    print(i)\n",
    "print(count)"
   ]
  },
  {
   "cell_type": "markdown",
   "metadata": {},
   "source": [
    "### Character Groups"
   ]
  },
  {
   "cell_type": "code",
   "execution_count": 3,
   "metadata": {},
   "outputs": [
    {
     "name": "stdout",
     "output_type": "stream",
     "text": [
      "<re.Match object; span=(69, 72), match='abc'>\n",
      "<re.Match object; span=(154, 159), match='texas'>\n",
      "<re.Match object; span=(160, 163), match='edu'>\n",
      "<re.Match object; span=(205, 210), match='texas'>\n",
      "<re.Match object; span=(211, 214), match='edu'>\n"
     ]
    }
   ],
   "source": [
    "pattern = re.compile(r'(abc|edu|texas)\\b')\n",
    "matches = pattern.finditer(text_to_search)\n",
    "for i in matches:\n",
    "    print(i)\n"
   ]
  },
  {
   "cell_type": "code",
   "execution_count": 4,
   "metadata": {},
   "outputs": [
    {
     "name": "stdout",
     "output_type": "stream",
     "text": [
      "<re.Match object; span=(28, 30), match='AB'>\n",
      "<re.Match object; span=(30, 32), match='CD'>\n",
      "<re.Match object; span=(32, 34), match='EF'>\n",
      "<re.Match object; span=(34, 36), match='GH'>\n",
      "<re.Match object; span=(36, 38), match='IJ'>\n",
      "<re.Match object; span=(38, 40), match='KL'>\n",
      "<re.Match object; span=(40, 42), match='MN'>\n",
      "<re.Match object; span=(42, 44), match='OP'>\n",
      "<re.Match object; span=(44, 46), match='QR'>\n",
      "<re.Match object; span=(46, 48), match='ST'>\n",
      "<re.Match object; span=(48, 50), match='UV'>\n",
      "<re.Match object; span=(50, 52), match='WX'>\n",
      "<re.Match object; span=(52, 54), match='YZ'>\n",
      "<re.Match object; span=(74, 76), match='He'>\n",
      "<re.Match object; span=(80, 82), match='He'>\n",
      "<re.Match object; span=(82, 86), match='lloH'>\n",
      "<re.Match object; span=(92, 94), match='Me'>\n",
      "<re.Match object; span=(216, 218), match='Mr'>\n",
      "<re.Match object; span=(220, 222), match='Jo'>\n",
      "<re.Match object; span=(228, 230), match='Mr'>\n",
      "<re.Match object; span=(232, 234), match='Sm'>\n",
      "<re.Match object; span=(238, 240), match='Ms'>\n",
      "<re.Match object; span=(242, 244), match='Da'>\n",
      "<re.Match object; span=(248, 250), match='Mr'>\n",
      "<re.Match object; span=(253, 255), match='Ro'>\n",
      "<re.Match object; span=(262, 264), match='Mr'>\n"
     ]
    }
   ],
   "source": [
    "pattern = re.compile(r'([A-Z]|llo)[a-zA-Z]')\n",
    "matches = pattern.finditer(text_to_search)\n",
    "for i in matches:\n",
    "    print(i)"
   ]
  },
  {
   "cell_type": "markdown",
   "metadata": {},
   "source": [
    "### Quantifiers"
   ]
  },
  {
   "cell_type": "code",
   "execution_count": 20,
   "metadata": {},
   "outputs": [
    {
     "name": "stdout",
     "output_type": "stream",
     "text": [
      "<re.Match object; span=(216, 227), match='Mr. Johnson'>\n",
      "<re.Match object; span=(228, 236), match='Mr Smith'>\n",
      "<re.Match object; span=(260, 265), match='Mr. T'>\n"
     ]
    }
   ],
   "source": [
    "# ? -> 0/1 occurance of next chracter\n",
    "pattern = re.compile(r'Mr\\.?\\s[A-Z][a-z]*')\n",
    "matches = pattern.finditer(text_to_search)\n",
    "for i in matches:\n",
    "    print(i)"
   ]
  },
  {
   "cell_type": "code",
   "execution_count": null,
   "metadata": {},
   "outputs": [],
   "source": []
  }
 ],
 "metadata": {
  "kernelspec": {
   "display_name": "Python 3",
   "language": "python",
   "name": "python3"
  },
  "language_info": {
   "codemirror_mode": {
    "name": "ipython",
    "version": 3
   },
   "file_extension": ".py",
   "mimetype": "text/x-python",
   "name": "python",
   "nbconvert_exporter": "python",
   "pygments_lexer": "ipython3",
   "version": "3.8.3"
  }
 },
 "nbformat": 4,
 "nbformat_minor": 4
}
